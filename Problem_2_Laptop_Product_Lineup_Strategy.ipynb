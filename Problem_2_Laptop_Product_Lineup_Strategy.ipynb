{
  "nbformat": 4,
  "nbformat_minor": 0,
  "metadata": {
    "colab": {
      "provenance": [],
      "gpuType": "T4",
      "authorship_tag": "ABX9TyO8N+nZMmPr9+i6Op7WMYe4",
      "include_colab_link": true
    },
    "kernelspec": {
      "name": "python3",
      "display_name": "Python 3"
    },
    "language_info": {
      "name": "python"
    },
    "accelerator": "GPU"
  },
  "cells": [
    {
      "cell_type": "markdown",
      "metadata": {
        "id": "view-in-github",
        "colab_type": "text"
      },
      "source": [
        "<a href=\"https://colab.research.google.com/github/OluwafemiOlasupo/Coding-Contest/blob/main/Problem_2_Laptop_Product_Lineup_Strategy.ipynb\" target=\"_parent\"><img src=\"https://colab.research.google.com/assets/colab-badge.svg\" alt=\"Open In Colab\"/></a>"
      ]
    },
    {
      "cell_type": "code",
      "execution_count": null,
      "metadata": {
        "id": "HldXDkG6LsZK"
      },
      "outputs": [],
      "source": [
        "import pandas as pd\n",
        "import numpy as np\n",
        "from sklearn.linear_model import LinearRegression\n",
        "from sklearn.preprocessing import StandardScaler\n",
        "from sklearn.metrics import r2_score\n",
        "import matplotlib.pyplot as plt"
      ]
    },
    {
      "cell_type": "code",
      "source": [
        "# Load the dataset\n",
        "# Replace 'laptop_data.csv' with the actual path to your downloaded dataset\n",
        "df = pd.read_csv('laptop_data.csv')"
      ],
      "metadata": {
        "id": "WP9A-yF1Ot3q"
      },
      "execution_count": null,
      "outputs": []
    },
    {
      "cell_type": "code",
      "source": [
        "# Display basic info about the dataset\n",
        "print(\"Dataset shape:\", df.shape)\n",
        "print(\"\\nColumn names:\")\n",
        "print(df.columns.tolist())\n",
        "print(\"\\nFirst few rows:\")\n",
        "print(df.head())\n"
      ],
      "metadata": {
        "colab": {
          "base_uri": "https://localhost:8080/"
        },
        "id": "wnSilavQO4mc",
        "outputId": "f5495282-4c7c-4fc2-9204-3e1c5a47520a"
      },
      "execution_count": null,
      "outputs": [
        {
          "output_type": "stream",
          "name": "stdout",
          "text": [
            "Dataset shape: (1000, 6)\n",
            "\n",
            "Column names:\n",
            "['Memory', 'Storage', 'CPU_class', 'Screen_size', 'year', 'price']\n",
            "\n",
            "First few rows:\n",
            "   Memory  Storage  CPU_class  Screen_size  year   price\n",
            "0       8     1024          3         16.0  2025  162021\n",
            "1      32     1024          0         16.0  2024  112214\n",
            "2      16      512          1         16.0  2025  118354\n",
            "3      16     1024          1         16.0  2025  123383\n",
            "4      16      256          3         16.0  2024  162968\n"
          ]
        }
      ]
    },
    {
      "cell_type": "code",
      "source": [
        "# Current model specifications\n",
        "current_specs = {\n",
        "    'memory_gb': 16,\n",
        "    'storage_gb': 512,\n",
        "    'cpu_class': 1,\n",
        "    'screen_size': 14.0,\n",
        "    'release_year': 2025\n",
        "}\n",
        "\n",
        "current_price = 111000  # yen"
      ],
      "metadata": {
        "id": "CExjfsY-O8Xe"
      },
      "execution_count": null,
      "outputs": []
    },
    {
      "cell_type": "code",
      "source": [
        "# Upgrade options and their costs\n",
        "upgrade_options = {\n",
        "    'memory_upgrade': {'cost': 7000, 'spec_change': {'memory_gb': 32}},  # +16GB\n",
        "    'storage_upgrade': {'cost': 5000, 'spec_change': {'storage_gb': 1024}},  # +512GB\n",
        "    'cpu_upgrade': {'cost': 15000, 'spec_change': {'cpu_class': 2}},  # +1 level\n",
        "    'screen_upgrade': {'cost': 3000, 'spec_change': {'screen_size': 16.0}}  # 14->16 inches\n",
        "}"
      ],
      "metadata": {
        "id": "xRtHV_0lPAy3"
      },
      "execution_count": null,
      "outputs": []
    },
    {
      "cell_type": "code",
      "source": [
        "def prepare_data(df):\n",
        "    \"\"\"Prepare and clean the dataset for analysis\"\"\"\n",
        "    # Remove any rows with missing values in key columns\n",
        "    required_columns = ['Memory', 'Storage', 'CPU_class', 'Screen_size', 'year', 'price']\n",
        "\n",
        "    # Check which columns actually exist in the dataset\n",
        "    existing_columns = [col for col in required_columns if col in df.columns]\n",
        "    print(f\"Available columns for analysis: {existing_columns}\")\n",
        "\n",
        "    # Clean the data\n",
        "    df_clean = df[existing_columns].dropna()\n",
        "\n",
        "    # Remove outliers (prices that are too extreme)\n",
        "    price_col = 'price' if 'price' in df.columns else df.columns[-1]  # assume last column is price\n",
        "    Q1 = df_clean[price_col].quantile(0.25)\n",
        "    Q3 = df_clean[price_col].quantile(0.75)\n",
        "    IQR = Q3 - Q1\n",
        "    lower_bound = Q1 - 1.5 * IQR\n",
        "    upper_bound = Q3 + 1.5 * IQR\n",
        "\n",
        "    df_clean = df_clean[(df_clean[price_col] >= lower_bound) & (df_clean[price_col] <= upper_bound)]\n",
        "\n",
        "    return df_clean"
      ],
      "metadata": {
        "id": "BBF1i2lAPFrX"
      },
      "execution_count": null,
      "outputs": []
    },
    {
      "cell_type": "code",
      "source": [
        "def build_price_model(df_clean):\n",
        "    \"\"\"Build a regression model to predict laptop prices\"\"\"\n",
        "    # Prepare features (X) and target (y)\n",
        "    feature_columns = [col for col in df_clean.columns if col != 'price']\n",
        "    if 'price' in df_clean.columns:\n",
        "        price_column = 'price'\n",
        "    else:\n",
        "        price_column = df_clean.columns[-1]  # assume last column is price\n",
        "\n",
        "    X = df_clean[feature_columns]\n",
        "    y = df_clean[price_column]\n",
        "\n",
        "    # Build and train the model\n",
        "    model = LinearRegression()\n",
        "    scaler = StandardScaler()\n",
        "\n",
        "    X_scaled = scaler.fit_transform(X)\n",
        "    model.fit(X_scaled, y)\n",
        "\n",
        "    # Evaluate model\n",
        "    y_pred = model.predict(X_scaled)\n",
        "    r2 = r2_score(y, y_pred)\n",
        "    print(f\"Model R² score: {r2:.3f}\")\n",
        "\n",
        "    return model, scaler, feature_columns"
      ],
      "metadata": {
        "id": "wIK52Bh6Pg6x"
      },
      "execution_count": null,
      "outputs": []
    },
    {
      "cell_type": "code",
      "source": [
        "def predict_price(model, scaler, feature_columns, specs):\n",
        "    \"\"\"Predict price for given specifications\"\"\"\n",
        "    # Create feature vector matching the model's expected input\n",
        "    feature_vector = []\n",
        "    for col in feature_columns:\n",
        "        if col in specs:\n",
        "            feature_vector.append(specs[col])\n",
        "        else:\n",
        "            feature_vector.append(0)  # default value\n",
        "\n",
        "    feature_vector = np.array(feature_vector).reshape(1, -1)\n",
        "    feature_vector_scaled = scaler.transform(feature_vector)\n",
        "\n",
        "    predicted_price = model.predict(feature_vector_scaled)[0]\n",
        "    return predicted_price\n"
      ],
      "metadata": {
        "id": "_HKMR6S_PoV3"
      },
      "execution_count": null,
      "outputs": []
    },
    {
      "cell_type": "code",
      "source": [
        "def analyze_upgrade_options(df, current_specs, current_price, upgrade_options):\n",
        "    \"\"\"Analyze each upgrade option and calculate expected gross profit\"\"\"\n",
        "    # Prepare data and build model\n",
        "    df_clean = prepare_data(df)\n",
        "    model, scaler, feature_columns = build_price_model(df_clean)\n",
        "\n",
        "    results = {}\n",
        "\n",
        "    print(\"\\n\" + \"=\"*60)\n",
        "    print(\"UPGRADE ANALYSIS RESULTS\")\n",
        "    print(\"=\"*60)\n",
        "\n",
        "    for upgrade_name, upgrade_info in upgrade_options.items():\n",
        "        # Create upgraded specs\n",
        "        upgraded_specs = current_specs.copy()\n",
        "        upgraded_specs.update(upgrade_info['spec_change'])\n",
        "\n",
        "        # Predict market price for upgraded model\n",
        "        predicted_market_price = predict_price(model, scaler, feature_columns, upgraded_specs)\n",
        "\n",
        "        # Calculate our selling price (current price + upgrade cost + margin)\n",
        "        upgrade_cost = upgrade_info['cost']\n",
        "        our_selling_price = current_price + upgrade_cost\n",
        "\n",
        "        # Calculate gross profit (assuming we can sell at market price)\n",
        "        # Gross profit = Market price - Our cost (current cost + upgrade cost)\n",
        "        current_cost = current_price * 0.7  # Assuming 30% margin on current model\n",
        "        upgraded_cost = current_cost + upgrade_cost\n",
        "        gross_profit = predicted_market_price - upgraded_cost\n",
        "\n",
        "        # Alternative calculation: profit per unit sold\n",
        "        profit_margin = predicted_market_price - our_selling_price\n",
        "\n",
        "        results[upgrade_name] = {\n",
        "            'upgrade_cost': upgrade_cost,\n",
        "            'predicted_market_price': predicted_market_price,\n",
        "            'our_selling_price': our_selling_price,\n",
        "            'gross_profit': gross_profit,\n",
        "            'profit_margin': profit_margin,\n",
        "            'price_increase_ratio': predicted_market_price / current_price\n",
        "        }\n",
        "\n",
        "        print(f\"\\n{upgrade_name.upper()}:\")\n",
        "        print(f\"  Upgrade cost: ¥{upgrade_cost:,}\")\n",
        "        print(f\"  Predicted market price: ¥{predicted_market_price:,.0f}\")\n",
        "        print(f\"  Our selling price: ¥{our_selling_price:,}\")\n",
        "        print(f\"  Expected gross profit: ¥{gross_profit:,.0f}\")\n",
        "        print(f\"  Profit margin: ¥{profit_margin:,.0f}\")\n",
        "        print(f\"  Market price increase: {(predicted_market_price/current_price-1)*100:.1f}%\")\n",
        "\n",
        "    return results\n"
      ],
      "metadata": {
        "id": "QO923W0LPuQb"
      },
      "execution_count": null,
      "outputs": []
    },
    {
      "cell_type": "code",
      "source": [
        "def select_best_upgrades(results):\n",
        "    \"\"\"Select the top 2 upgrades based on gross profit\"\"\"\n",
        "    # Sort by gross profit\n",
        "    sorted_upgrades = sorted(results.items(), key=lambda x: x[1]['gross_profit'], reverse=True)\n",
        "\n",
        "    print(\"\\n\" + \"=\"*60)\n",
        "    print(\"RANKING BY GROSS PROFIT\")\n",
        "    print(\"=\"*60)\n",
        "\n",
        "    for i, (upgrade_name, metrics) in enumerate(sorted_upgrades, 1):\n",
        "        print(f\"{i}. {upgrade_name}: ¥{metrics['gross_profit']:,.0f}\")\n",
        "\n",
        "    top_2_upgrades = [upgrade[0] for upgrade in sorted_upgrades[:2]]\n",
        "\n",
        "    print(f\"\\n🏆 TOP 2 RECOMMENDED UPGRADES:\")\n",
        "    print(f\"1. {top_2_upgrades[0]}\")\n",
        "    print(f\"2. {top_2_upgrades[1]}\")\n",
        "\n",
        "    return top_2_upgrades"
      ],
      "metadata": {
        "id": "8qIUJrovPz-Q"
      },
      "execution_count": null,
      "outputs": []
    },
    {
      "cell_type": "code",
      "source": [
        "# Main analysis\n",
        "def main():\n",
        "    print(\"Starting laptop upgrade analysis...\")\n",
        "\n",
        "    # Load and analyze data\n",
        "    try:\n",
        "        df = pd.read_csv('laptop_data.csv')  # Replace with actual file path\n",
        "\n",
        "        # Analyze upgrade options\n",
        "        results = analyze_upgrade_options(df, current_specs, current_price, upgrade_options)\n",
        "\n",
        "        # Select best upgrades\n",
        "        best_upgrades = select_best_upgrades(results)\n",
        "\n",
        "        return best_upgrades\n",
        "\n",
        "    except FileNotFoundError:\n",
        "        print(\"Please download the dataset and update the file path in the code.\")\n",
        "        print(\"Dataset URL: https://drive.google.com/file/d/1-PT29BP2ru2L9zQNNXK3y-kBZHxfrngn/view?usp=sharing\")\n",
        "        return None\n",
        "\n",
        "if __name__ == \"__main__\":\n",
        "    main()"
      ],
      "metadata": {
        "colab": {
          "base_uri": "https://localhost:8080/"
        },
        "id": "u0zwyzs_P3h4",
        "outputId": "e611c985-7581-480c-b24a-cc702dd7eb0f"
      },
      "execution_count": null,
      "outputs": [
        {
          "output_type": "stream",
          "name": "stdout",
          "text": [
            "Starting laptop upgrade analysis...\n",
            "Available columns for analysis: ['Memory', 'Storage', 'CPU_class', 'Screen_size', 'year', 'price']\n",
            "Model R² score: 0.995\n",
            "\n",
            "============================================================\n",
            "UPGRADE ANALYSIS RESULTS\n",
            "============================================================\n",
            "\n",
            "MEMORY_UPGRADE:\n",
            "  Upgrade cost: ¥7,000\n",
            "  Predicted market price: ¥-2,132,246\n",
            "  Our selling price: ¥118,000\n",
            "  Expected gross profit: ¥-2,216,946\n",
            "  Profit margin: ¥-2,250,246\n",
            "  Market price increase: -2020.9%\n",
            "\n",
            "STORAGE_UPGRADE:\n",
            "  Upgrade cost: ¥5,000\n",
            "  Predicted market price: ¥-2,132,246\n",
            "  Our selling price: ¥116,000\n",
            "  Expected gross profit: ¥-2,214,946\n",
            "  Profit margin: ¥-2,248,246\n",
            "  Market price increase: -2020.9%\n",
            "\n",
            "CPU_UPGRADE:\n",
            "  Upgrade cost: ¥15,000\n",
            "  Predicted market price: ¥-2,132,246\n",
            "  Our selling price: ¥126,000\n",
            "  Expected gross profit: ¥-2,224,946\n",
            "  Profit margin: ¥-2,258,246\n",
            "  Market price increase: -2020.9%\n",
            "\n",
            "SCREEN_UPGRADE:\n",
            "  Upgrade cost: ¥3,000\n",
            "  Predicted market price: ¥-2,132,246\n",
            "  Our selling price: ¥114,000\n",
            "  Expected gross profit: ¥-2,212,946\n",
            "  Profit margin: ¥-2,246,246\n",
            "  Market price increase: -2020.9%\n",
            "\n",
            "============================================================\n",
            "RANKING BY GROSS PROFIT\n",
            "============================================================\n",
            "1. screen_upgrade: ¥-2,212,946\n",
            "2. storage_upgrade: ¥-2,214,946\n",
            "3. memory_upgrade: ¥-2,216,946\n",
            "4. cpu_upgrade: ¥-2,224,946\n",
            "\n",
            "🏆 TOP 2 RECOMMENDED UPGRADES:\n",
            "1. screen_upgrade\n",
            "2. storage_upgrade\n"
          ]
        },
        {
          "output_type": "stream",
          "name": "stderr",
          "text": [
            "/usr/local/lib/python3.11/dist-packages/sklearn/utils/validation.py:2739: UserWarning: X does not have valid feature names, but StandardScaler was fitted with feature names\n",
            "  warnings.warn(\n",
            "/usr/local/lib/python3.11/dist-packages/sklearn/utils/validation.py:2739: UserWarning: X does not have valid feature names, but StandardScaler was fitted with feature names\n",
            "  warnings.warn(\n",
            "/usr/local/lib/python3.11/dist-packages/sklearn/utils/validation.py:2739: UserWarning: X does not have valid feature names, but StandardScaler was fitted with feature names\n",
            "  warnings.warn(\n",
            "/usr/local/lib/python3.11/dist-packages/sklearn/utils/validation.py:2739: UserWarning: X does not have valid feature names, but StandardScaler was fitted with feature names\n",
            "  warnings.warn(\n"
          ]
        }
      ]
    },
    {
      "cell_type": "code",
      "source": [],
      "metadata": {
        "id": "L7_FOaWAP8Iy"
      },
      "execution_count": null,
      "outputs": []
    }
  ]
}